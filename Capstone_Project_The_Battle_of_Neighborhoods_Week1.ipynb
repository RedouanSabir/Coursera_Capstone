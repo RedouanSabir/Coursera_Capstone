{
 "cells": [
  {
   "cell_type": "markdown",
   "metadata": {},
   "source": [
    "## Capstone Project - The Battle of Neighborhoods (Week 1)"
   ]
  },
  {
   "cell_type": "markdown",
   "metadata": {},
   "source": [
    "### Introduction"
   ]
  },
  {
   "cell_type": "markdown",
   "metadata": {},
   "source": [
    "####  Description of the problem and a discussion of the background\n",
    "\n",
    "Paris is the most densely populated capital city in europe and the fourth in the world\n",
    "(21,498/km² - 53,000/sq mi).\n",
    "As a consequence the real estate prices are amongst the highest in the world ( 8th in the world with 14,017.63 $  per square meter).\n",
    "\n",
    "Paris being a city where relatively few people possess a car (due to excessive taxes and parking fees). So a car rental agency can be a juicy business because a lot of residents may need ponctually car\n",
    "\n",
    "For this project let's put ourselves in the shoes of an entrepeneur looking to open a car rental agency. So for the location we have to find a balance between the real estate prices and the presence of competitors. The vicinity of a major railway station will be an asset as well\n",
    "\n",
    "\n"
   ]
  },
  {
   "cell_type": "markdown",
   "metadata": {},
   "source": [
    "#### Data Description\n",
    "To solve this problem we will use the following data :\n",
    "\n",
    "* A csv file from \"Open platform for French public data\"  containing the list of all the Paris districts with their coordinates. [1]\n",
    "\n",
    "* Foursquare API to get the car rental agencies for each district [2]\n",
    "\n",
    "*  Another csv file from \"Open platform for French public data\" with the real estate prices for all the french cities from which I extracted the price for only the 20 Paris districts [3]\n"
   ]
  },
  {
   "cell_type": "markdown",
   "metadata": {},
   "source": [
    "### References\n",
    "\n",
    "* [1] [Paris districts coordinates](https://www.data.gouv.fr/fr/datasets/arrondissements-1/) \n",
    "\n",
    "* [2] [Foursquare API](https://developer.foursquare.com/)\n",
    "\n",
    "* [3] [Average housing prices in France](https://www.data.gouv.fr/fr/datasets/prix-moyen-au-m2-des-ventes-de-maisons-et-dappartements-par-commune-en-2017/)"
   ]
  }
 ],
 "metadata": {
  "kernelspec": {
   "display_name": "Python 3",
   "language": "python",
   "name": "python3"
  },
  "language_info": {
   "codemirror_mode": {
    "name": "ipython",
    "version": 3
   },
   "file_extension": ".py",
   "mimetype": "text/x-python",
   "name": "python",
   "nbconvert_exporter": "python",
   "pygments_lexer": "ipython3",
   "version": "3.7.6"
  }
 },
 "nbformat": 4,
 "nbformat_minor": 4
}
